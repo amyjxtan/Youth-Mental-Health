{
 "cells": [
  {
   "cell_type": "markdown",
   "id": "0e349e70",
   "metadata": {},
   "source": [
    "# COGS 209: Youth Mental Health"
   ]
  },
  {
   "cell_type": "code",
   "execution_count": 2,
   "id": "b7c76c12",
   "metadata": {},
   "outputs": [],
   "source": [
    "# Import libraries\n",
    "import pandas as pd\n",
    "import requests\n",
    "import json\n",
    "import ast\n",
    "import matplotlib.pyplot as plt\n",
    "import seaborn as sns\n",
    "from ast import literal_eval"
   ]
  },
  {
   "cell_type": "code",
   "execution_count": 3,
   "id": "a87d02fd",
   "metadata": {
    "scrolled": false
   },
   "outputs": [
    {
     "name": "stderr",
     "output_type": "stream",
     "text": [
      "/var/folders/jf/tn4cnxdn127dtc8x_7vb71000000gn/T/ipykernel_62490/4240641621.py:2: DtypeWarning: Columns (248) have mixed types. Specify dtype option on import or set low_memory=False.\n",
      "  df = pd.read_csv('data/YRBS_2023.csv')\n"
     ]
    },
    {
     "data": {
      "text/html": [
       "<div>\n",
       "<style scoped>\n",
       "    .dataframe tbody tr th:only-of-type {\n",
       "        vertical-align: middle;\n",
       "    }\n",
       "\n",
       "    .dataframe tbody tr th {\n",
       "        vertical-align: top;\n",
       "    }\n",
       "\n",
       "    .dataframe thead th {\n",
       "        text-align: right;\n",
       "    }\n",
       "</style>\n",
       "<table border=\"1\" class=\"dataframe\">\n",
       "  <thead>\n",
       "    <tr style=\"text-align: right;\">\n",
       "      <th></th>\n",
       "      <th>Q1</th>\n",
       "      <th>Q2</th>\n",
       "      <th>Q3</th>\n",
       "      <th>Q4</th>\n",
       "      <th>Q5</th>\n",
       "      <th>Q6</th>\n",
       "      <th>Q7</th>\n",
       "      <th>Q8</th>\n",
       "      <th>Q9</th>\n",
       "      <th>Q10</th>\n",
       "      <th>...</th>\n",
       "      <th>QNILLICT</th>\n",
       "      <th>QNOBESE</th>\n",
       "      <th>QNOWT</th>\n",
       "      <th>WEIGHT</th>\n",
       "      <th>STRATUM</th>\n",
       "      <th>PSU</th>\n",
       "      <th>BMIPCT</th>\n",
       "      <th>RACEETH</th>\n",
       "      <th>Q6ORIG</th>\n",
       "      <th>Q7ORIG</th>\n",
       "    </tr>\n",
       "  </thead>\n",
       "  <tbody>\n",
       "    <tr>\n",
       "      <th>0</th>\n",
       "      <td>3.0</td>\n",
       "      <td>1.0</td>\n",
       "      <td>1.0</td>\n",
       "      <td>NaN</td>\n",
       "      <td>C</td>\n",
       "      <td>1.65 81.6544111131112212212212211211121111</td>\n",
       "      <td>81.6544111131112212212212211211121111111111111...</td>\n",
       "      <td>4.0</td>\n",
       "      <td>4.0</td>\n",
       "      <td>1.0</td>\n",
       "      <td>...</td>\n",
       "      <td>NaN</td>\n",
       "      <td>1.0</td>\n",
       "      <td>2.0</td>\n",
       "      <td>0.8614103 1629497.08    505180</td>\n",
       "      <td>103</td>\n",
       "      <td>16294</td>\n",
       "      <td>97.08    505180</td>\n",
       "      <td>NaN</td>\n",
       "      <td>505</td>\n",
       "      <td>180</td>\n",
       "    </tr>\n",
       "    <tr>\n",
       "      <th>1</th>\n",
       "      <td>4.0</td>\n",
       "      <td>2.0</td>\n",
       "      <td>1.0</td>\n",
       "      <td>2.0</td>\n",
       "      <td>E</td>\n",
       "      <td>51111111222212231222211211121111</td>\n",
       "      <td>5111111122221223122221121112111111111111111111...</td>\n",
       "      <td>5.0</td>\n",
       "      <td>1.0</td>\n",
       "      <td>1.0</td>\n",
       "      <td>...</td>\n",
       "      <td>2.0</td>\n",
       "      <td>NaN</td>\n",
       "      <td>NaN</td>\n",
       "      <td>0.8920103 16294  .     5N N233</td>\n",
       "      <td>103</td>\n",
       "      <td>16294</td>\n",
       "      <td>.     5N N233</td>\n",
       "      <td>5.0</td>\n",
       "      <td>N N</td>\n",
       "      <td>233</td>\n",
       "    </tr>\n",
       "    <tr>\n",
       "      <th>2</th>\n",
       "      <td>5.0</td>\n",
       "      <td>2.0</td>\n",
       "      <td>3.0</td>\n",
       "      <td>2.0</td>\n",
       "      <td>E</td>\n",
       "      <td>1.68 74.8453231111112212212212211151112211</td>\n",
       "      <td>74.8453231111112212212212211151112211361111111...</td>\n",
       "      <td>5.0</td>\n",
       "      <td>3.0</td>\n",
       "      <td>2.0</td>\n",
       "      <td>...</td>\n",
       "      <td>1.0</td>\n",
       "      <td>2.0</td>\n",
       "      <td>1.0</td>\n",
       "      <td>0.5081103 1629492.26   5506165</td>\n",
       "      <td>103</td>\n",
       "      <td>16294</td>\n",
       "      <td>92.26   5506165</td>\n",
       "      <td>5.0</td>\n",
       "      <td>506</td>\n",
       "      <td>165</td>\n",
       "    </tr>\n",
       "    <tr>\n",
       "      <th>3</th>\n",
       "      <td>6.0</td>\n",
       "      <td>1.0</td>\n",
       "      <td>2.0</td>\n",
       "      <td>2.0</td>\n",
       "      <td>E</td>\n",
       "      <td>41281131112112212212211211117811</td>\n",
       "      <td>4128113111211221221221121111781135212845211211...</td>\n",
       "      <td>4.0</td>\n",
       "      <td>1.0</td>\n",
       "      <td>2.0</td>\n",
       "      <td>...</td>\n",
       "      <td>1.0</td>\n",
       "      <td>NaN</td>\n",
       "      <td>NaN</td>\n",
       "      <td>1.1759103 16294  .     5N N105</td>\n",
       "      <td>103</td>\n",
       "      <td>16294</td>\n",
       "      <td>.     5N N105</td>\n",
       "      <td>5.0</td>\n",
       "      <td>N N</td>\n",
       "      <td>105</td>\n",
       "    </tr>\n",
       "    <tr>\n",
       "      <th>4</th>\n",
       "      <td>3.0</td>\n",
       "      <td>2.0</td>\n",
       "      <td>1.0</td>\n",
       "      <td>2.0</td>\n",
       "      <td>E</td>\n",
       "      <td>1.85 56.7051111111312212112212111151111131</td>\n",
       "      <td>56.7051111111312212112212111151111131352122111...</td>\n",
       "      <td>5.0</td>\n",
       "      <td>1.0</td>\n",
       "      <td>1.0</td>\n",
       "      <td>...</td>\n",
       "      <td>2.0</td>\n",
       "      <td>2.0</td>\n",
       "      <td>2.0</td>\n",
       "      <td>0.8920103 16294 7.57   5601125</td>\n",
       "      <td>103</td>\n",
       "      <td>16294</td>\n",
       "      <td>7.57   5601125</td>\n",
       "      <td>5.0</td>\n",
       "      <td>601</td>\n",
       "      <td>125</td>\n",
       "    </tr>\n",
       "  </tbody>\n",
       "</table>\n",
       "<p>5 rows × 250 columns</p>\n",
       "</div>"
      ],
      "text/plain": [
       "    Q1   Q2   Q3   Q4 Q5                                          Q6  \\\n",
       "0  3.0  1.0  1.0  NaN  C  1.65 81.6544111131112212212212211211121111   \n",
       "1  4.0  2.0  1.0  2.0  E            51111111222212231222211211121111   \n",
       "2  5.0  2.0  3.0  2.0  E  1.68 74.8453231111112212212212211151112211   \n",
       "3  6.0  1.0  2.0  2.0  E            41281131112112212212211211117811   \n",
       "4  3.0  2.0  1.0  2.0  E  1.85 56.7051111111312212112212111151111131   \n",
       "\n",
       "                                                  Q7   Q8   Q9  Q10  ...  \\\n",
       "0  81.6544111131112212212212211211121111111111111...  4.0  4.0  1.0  ...   \n",
       "1  5111111122221223122221121112111111111111111111...  5.0  1.0  1.0  ...   \n",
       "2  74.8453231111112212212212211151112211361111111...  5.0  3.0  2.0  ...   \n",
       "3  4128113111211221221221121111781135212845211211...  4.0  1.0  2.0  ...   \n",
       "4  56.7051111111312212112212111151111131352122111...  5.0  1.0  1.0  ...   \n",
       "\n",
       "   QNILLICT  QNOBESE  QNOWT                          WEIGHT  STRATUM    PSU  \\\n",
       "0       NaN      1.0    2.0  0.8614103 1629497.08    505180      103  16294   \n",
       "1       2.0      NaN    NaN  0.8920103 16294  .     5N N233      103  16294   \n",
       "2       1.0      2.0    1.0  0.5081103 1629492.26   5506165      103  16294   \n",
       "3       1.0      NaN    NaN  1.1759103 16294  .     5N N105      103  16294   \n",
       "4       2.0      2.0    2.0  0.8920103 16294 7.57   5601125      103  16294   \n",
       "\n",
       "            BMIPCT  RACEETH  Q6ORIG  Q7ORIG  \n",
       "0  97.08    505180      NaN     505     180  \n",
       "1    .     5N N233      5.0     N N     233  \n",
       "2  92.26   5506165      5.0     506     165  \n",
       "3    .     5N N105      5.0     N N     105  \n",
       "4   7.57   5601125      5.0     601     125  \n",
       "\n",
       "[5 rows x 250 columns]"
      ]
     },
     "execution_count": 3,
     "metadata": {},
     "output_type": "execute_result"
    }
   ],
   "source": [
    "# Read in files\n",
    "df = pd.read_csv('data/YRBS_2023.csv')\n",
    "df.head()"
   ]
  },
  {
   "cell_type": "markdown",
   "id": "a1d1d89e",
   "metadata": {},
   "source": [
    "## Exploratory Data Analysis (EDA)"
   ]
  },
  {
   "cell_type": "code",
   "execution_count": 39,
   "id": "ad8b026a",
   "metadata": {},
   "outputs": [
    {
     "data": {
      "text/plain": [
       "(20103, 250)"
      ]
     },
     "execution_count": 39,
     "metadata": {},
     "output_type": "execute_result"
    }
   ],
   "source": [
    "# Shape of dataset\n",
    "df.shape"
   ]
  },
  {
   "cell_type": "code",
   "execution_count": 42,
   "id": "d6742ee5",
   "metadata": {},
   "outputs": [
    {
     "data": {
      "text/plain": [
       "Q1           98\n",
       "Q2          158\n",
       "Q3          193\n",
       "Q4          254\n",
       "Q5         1389\n",
       "           ... \n",
       "PSU           0\n",
       "BMIPCT        0\n",
       "RACEETH     370\n",
       "Q6ORIG      269\n",
       "Q7ORIG      684\n",
       "Length: 250, dtype: int64"
      ]
     },
     "execution_count": 42,
     "metadata": {},
     "output_type": "execute_result"
    }
   ],
   "source": [
    "# Summary statistics\n",
    "df.isnull().sum()"
   ]
  },
  {
   "cell_type": "code",
   "execution_count": 38,
   "id": "89a26fcc",
   "metadata": {
    "scrolled": true
   },
   "outputs": [
    {
     "data": {
      "image/png": "[encoded data removed]",
      "text/plain": [
       "<Figure size 800x400 with 1 Axes>"
      ]
     },
     "metadata": {},
     "output_type": "display_data"
    }
   ],
   "source": [
    "# Creating key for age groups\n",
    "age_counts = df['Q1'].value_counts().sort_index()\n",
    "\n",
    "age_key = {\n",
    "    1.0: '12 years old or younger',\n",
    "    2.0: '13 years old',\n",
    "    3.0: '14 years old',\n",
    "    4.0: '15 years old',\n",
    "    5.0: '16 years old',\n",
    "    6.0: '17 years old',\n",
    "    7.0: '18 years old or older'\n",
    "}\n",
    "\n",
    "age_counts.index = age_counts.index.map(age_key)\n",
    "\n",
    "# Display distribution of ages\n",
    "plt.figure(figsize=(8,4))\n",
    "ages = plt.bar(age_counts.index, age_counts, color = 'skyblue')\n",
    "plt.title(\"Distribution of Respondents' Ages (Q1)\")\n",
    "plt.xlabel('Age Group')\n",
    "plt.ylabel('Number of Respondents')\n",
    "plt.xticks(rotation=45)\n",
    "plt.show()"
   ]
  },
  {
   "cell_type": "code",
   "execution_count": 45,
   "id": "0c315b61",
   "metadata": {},
   "outputs": [
    {
     "data": {
      "image/png": "[encoded data removed]",
      "text/plain": [
       "<Figure size 700x400 with 1 Axes>"
      ]
     },
     "metadata": {},
     "output_type": "display_data"
    }
   ],
   "source": [
    "# Creating key for sex\n",
    "sex_counts = df['Q2'].value_counts().sort_index()\n",
    "\n",
    "sex_key = {\n",
    "    1.0: 'Female',\n",
    "    2.0: 'Male'\n",
    "}\n",
    "\n",
    "sex_counts.index = sex_counts.index.map(sex_key)\n",
    "\n",
    "# Display distribution of sex\n",
    "plt.figure(figsize=(7,4))\n",
    "ages = plt.bar(sex_counts.index, sex_counts, color = 'skyblue')\n",
    "plt.title(\"Distribution of Respondents' Sex (Q2)\")\n",
    "plt.xlabel('Sex')\n",
    "plt.ylabel('Number of Respondents')\n",
    "plt.xticks(rotation=45)\n",
    "plt.show()"
   ]
  },
  {
   "cell_type": "code",
   "execution_count": null,
   "id": "ae94ec8c",
   "metadata": {},
   "outputs": [],
   "source": []
  }
 ],
 "metadata": {
  "kernelspec": {
   "display_name": "Python 3 (ipykernel)",
   "language": "python",
   "name": "python3"
  },
  "language_info": {
   "codemirror_mode": {
    "name": "ipython",
    "version": 3
   },
   "file_extension": ".py",
   "mimetype": "text/x-python",
   "name": "python",
   "nbconvert_exporter": "python",
   "pygments_lexer": "ipython3",
   "version": "3.11.3"
  }
 },
 "nbformat": 4,
 "nbformat_minor": 5
}
